{
 "metadata": {
  "name": "breakout_solution"
 }, 
 "nbformat": 2, 
 "worksheets": [
  {
   "cells": [
    {
     "cell_type": "markdown", 
     "source": [
      "# IPython Intro Breakout Session", 
      "", 
      "Interactive exploration", 
      "-----------------------", 
      "", 
      "I have shown you the Zen of Python. But if you search through all of the python", 
      "source code, you will not find the word \"Zen\" anywhere.", 
      "", 
      "", 
      "", 
      "Use `<TAB>`, `?` and `??` on the  `this` module to decode this string:"
     ]
    }, 
    {
     "cell_type": "code", 
     "collapsed": true, 
     "input": [
      "import this", 
      "", 
      "secret = \"Tbbq Wbo! abj tb fvta hc sbe gur znvyvat yvfg bire ng vclguba.bet\""
     ], 
     "language": "python", 
     "outputs": [], 
     "prompt_number": 3
    }, 
    {
     "cell_type": "markdown", 
     "source": [
      "Solution", 
      "--------", 
      "", 
      "Using Tab-completion, you should have figured out that `this` module has the following things", 
      "", 
      "    this.c # a character", 
      "    this.d # a dictionary, mapping letters to letters", 
      "    this.s # the string of the Zen of Python poem, encoded like our `secret`", 
      "    this.c # a counter that's only used in creating `this.d`", 
      "", 
      "I found out how `this.c` is actually used by looking at source code using `this??`"
     ]
    }, 
    {
     "cell_type": "code", 
     "collapsed": true, 
     "input": [
      "this??"
     ], 
     "language": "python", 
     "outputs": [], 
     "prompt_number": 19
    }, 
    {
     "cell_type": "markdown", 
     "source": [
      "Aha! The last line of the this module is what does the actual decoding!", 
      "", 
      "let's just tweak it a bit"
     ]
    }, 
    {
     "cell_type": "code", 
     "collapsed": false, 
     "input": [
      "\"\".join([this.d.get(c, c) for c in secret])"
     ], 
     "language": "python", 
     "outputs": [
      {
       "output_type": "pyout", 
       "prompt_number": 20, 
       "text": [
        "'Good Job! now go sign up for the mailing list over at ipython.org'"
       ]
      }
     ], 
     "prompt_number": 20
    }, 
    {
     "cell_type": "markdown", 
     "source": [
      "Timing information", 
      "------------------", 
      "", 
      "", 
      "", 
      "Josh mentioned that there are two range commands, `range` and `xrange`. ", 
      "", 
      "", 
      "", 
      "Run the code below to see which one is faster, and then read the documentation for the two to see why this is the case."
     ]
    }, 
    {
     "cell_type": "code", 
     "collapsed": true, 
     "input": [
      "timeit?"
     ], 
     "language": "python", 
     "outputs": []
    }, 
    {
     "cell_type": "code", 
     "collapsed": false, 
     "input": [
      "%timeit range(100)"
     ], 
     "language": "python", 
     "outputs": [
      {
       "output_type": "stream", 
       "stream": "stdout", 
       "text": [
        "1000000 loops, best of 3: 523 ns per loop"
       ]
      }
     ], 
     "prompt_number": 21
    }, 
    {
     "cell_type": "code", 
     "collapsed": false, 
     "input": [
      "%timeit xrange(100)"
     ], 
     "language": "python", 
     "outputs": [
      {
       "output_type": "stream", 
       "stream": "stdout", 
       "text": [
        "10000000 loops, best of 3: 105 ns per loop"
       ]
      }
     ], 
     "prompt_number": 22
    }, 
    {
     "cell_type": "code", 
     "collapsed": true, 
     "input": [
      "range?"
     ], 
     "language": "python", 
     "outputs": [], 
     "prompt_number": 36
    }, 
    {
     "cell_type": "code", 
     "collapsed": true, 
     "input": [
      "xrange?"
     ], 
     "language": "python", 
     "outputs": [], 
     "prompt_number": 37
    }, 
    {
     "cell_type": "markdown", 
     "source": [
      "Configuration file options", 
      "--------------------------", 
      "", 
      "Create the stub default profile (if you haven't already)", 
      "", 
      "", 
      "", 
      "    $ ipython profile create", 
      "", 
      "", 
      "", 
      "This will create the stubs for the default profile", 
      "", 
      "now you can change these defaults.", 
      "", 
      "", 
      "", 
      "To find where your profile is stored:", 
      "", 
      "", 
      "", 
      "    In [1]: import IPython", 
      "", 
      "    In [2]: IPython.utils.path.locate_profile()", 
      "", 
      "", 
      "", 
      "Example:if you want the `_` and `__` methods to show up by default when doing tab-completion ", 
      "", 
      "", 
      "", 
      "    c.IPCompleter.omit__names", 
      "", 
      "Another example: you can add your own startup message (or execute your desired commands at startup) like I have:", 
      "", 
      "    .../profile_default/startup/README", 
      "", 
      "", 
      "", 
      "", 
      "", 
      "", 
      "    "
     ]
    }, 
    {
     "cell_type": "code", 
     "collapsed": false, 
     "input": [
      "import IPython", 
      "IPython.utils.path.locate_profile()"
     ], 
     "language": "python", 
     "outputs": [
      {
       "output_type": "pyout", 
       "prompt_number": 30, 
       "text": [
        "u'/home/pi/.ipython/profile_default'"
       ]
      }
     ], 
     "prompt_number": 30
    }, 
    {
     "cell_type": "code", 
     "collapsed": false, 
     "input": [
      "IPython.utils.path.locate_profile()+'/startup/README'"
     ], 
     "language": "python", 
     "outputs": [
      {
       "output_type": "pyout", 
       "prompt_number": 31, 
       "text": [
        "u'/home/pi/.ipython/profile_default/startup/README'"
       ]
      }
     ], 
     "prompt_number": 31
    }, 
    {
     "cell_type": "code", 
     "collapsed": true, 
     "input": [
      "aperture_code = '''\"\"\" ", 
      "                                   ,=:;//;:-,.              ", 
      "                              ,;%+,./H#M@MM@@@H: .          ", 
      "                           ,/X@MMMH%-,=%MM@M@@M+ +X/,       ", 
      "                         -+@MMMM@MMMMX;,-+HM@@M$ ;MM@+-     ", 
      "                       ./@#M@M@HHHXXXXX+- .;X@MX -M@@M@;    ", 
      "                      .,=:=-=---.            =%@, HM@@MM%,  ", 
      "                      ;+%%%$$XH%-              ,. XM@@@#@=  ", 
      "                     :MM@MMMM@;.                  $M@M@/.-= ", 
      "                     $M@@@MM+.                    /MM$- /@X ", 
      "                    -@@@@#X= .                    :@: :H@M@,", 
      "                    =M@M@; -H/                    . ,XMM@@@,", 
      "                    .$#%..+MM%                    ,+@M@@@@H.", 
      "                     ;= ;HM@MX                  ./HMM@MMMM/ ", 
      "                      ,XM@@@@H. ,              =$@HHX$%+%/  ", 
      "                      ,XM@@@@@,.H%-           .--------=.   ", 
      "                       .%MM@@M= XMM$:. -+%$$$XXHHH@@@MM%.   ", 
      "                         =XMMM/ +M@MMH+-,;H#MM@MM@MMMX=     ", 
      "                           =%M% ;M@@@MM@$=.-$@#M@M@%=       ", 
      "                             ,= =@MMMMMMM#H/,-+$+:,         ", 
      "                                 .-:/+%%%%++=               ", 
      "                                                            ", 
      "                         There is research to be done      \"\"\"", 
      "import time", 
      "time.sleep(.1)", 
      "print __doc__'''"
     ], 
     "language": "python", 
     "outputs": [], 
     "prompt_number": 33
    }, 
    {
     "cell_type": "code", 
     "collapsed": true, 
     "input": [
      "filepath = IPython.utils.path.locate_profile()+'/startup/aperture.py'", 
      "with file(filepath, 'w') as f:", 
      "    f.write(aperture_code)"
     ], 
     "language": "python", 
     "outputs": [], 
     "prompt_number": 35
    }, 
    {
     "cell_type": "code", 
     "collapsed": true, 
     "input": [], 
     "language": "python", 
     "outputs": []
    }
   ]
  }
 ]
}